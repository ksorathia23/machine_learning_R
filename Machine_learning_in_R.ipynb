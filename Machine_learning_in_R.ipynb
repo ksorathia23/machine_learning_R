{
 "cells": [
  {
   "cell_type": "code",
   "execution_count": 2,
   "id": "46d97aff-6de5-4a6a-bd59-74a1371a6c57",
   "metadata": {
    "tags": []
   },
   "outputs": [
    {
     "ename": "ERROR",
     "evalue": "Error in library(pycaret): there is no package called ‘pycaret’\n",
     "output_type": "error",
     "traceback": [
      "Error in library(pycaret): there is no package called ‘pycaret’\nTraceback:\n",
      "1. library(pycaret)"
     ]
    }
   ],
   "source": [
    "library(pycaret)"
   ]
  },
  {
   "cell_type": "code",
   "execution_count": null,
   "id": "06015d6c-3300-4e51-b308-da71890ce18a",
   "metadata": {
    "tags": []
   },
   "outputs": [
    {
     "name": "stderr",
     "output_type": "stream",
     "text": [
      "Warning message:\n",
      "“dependencies ‘randomForest’, ‘R2wd’, ‘vip’, ‘graph’, ‘sylly.de’, ‘sylly.es’, ‘RTCGA.rnaseq’, ‘globaltest’, ‘emmeans’, ‘locfit’, ‘pbkrtest’, ‘MuMIn’, ‘phangorn’, ‘actuar’, ‘texPreview’, ‘Rgraphviz’, ‘RandomFields’, ‘RandomFieldsUtils’, ‘starsdata’, ‘Biobase’, ‘cairoDevice’, ‘RGtk2’, ‘glmmADMB’, ‘rnaturalearthhires’, ‘mvPot’, ‘piecewiseSEM’, ‘Rcampdf’, ‘tm.lexicon.GeneralInquirer’, ‘dblog’, ‘lavaan.survey’, ‘cmdstanr’, ‘ExactData’, ‘ComplexHeatmap’, ‘BiocVersion’, ‘M3C’, ‘panelr’, ‘spDataLarge’, ‘RDCOMClient’, ‘gurobi’, ‘rrelaxiv’, ‘taxidata’, ‘rmcorr’, ‘echarts4r’, ‘extraTrees’, ‘genefilter’, ‘sva’, ‘argon2’ are not available”\n",
      "also installing the dependencies ‘getPass’, ‘Rmosek’, ‘git2r’, ‘asciicast’, ‘shinyjs’, ‘callr’, ‘REBayes’, ‘gistr’, ‘filelock’, ‘pingr’, ‘pkgcache’, ‘pkgdepends’, ‘pkgsearch’, ‘processx’, ‘ashr’, ‘geojsonio’, ‘packrat’, ‘pak’, ‘rdd’, ‘ncvreg’, ‘prettycode’, ‘highcharter’, ‘dockerfiler’, ‘attachment’, ‘renv’, ‘grf’, ‘visreg’, ‘imbalance’, ‘biglasso’, ‘KernelKnn’, ‘LogicReg’, ‘SIS’, ‘dr’, ‘ash’, ‘geozoo’, ‘styler’, ‘shinyAce’, ‘shinyEffects’, ‘shinyjqui’, ‘golem’, ‘thematic’, ‘pimeta’, ‘hasseDiagram’, ‘writexl’, ‘targeted’, ‘smcfcs’, ‘casebase’, ‘grpreg’, ‘hal9001’, ‘nnls’, ‘randomForestSRC’, ‘SuperLearner’, ‘gettz’, ‘memuse’, ‘MNP’, ‘osqp’, ‘misaem’, ‘highs’, ‘LDRTools’, ‘tourr’, ‘cond’, ‘nlreg’, ‘shinydashboard’, ‘shinydashboardPlus’, ‘bs4Dash’, ‘argonR’, ‘argonDash’, ‘tablerDash’, ‘shinydisconnect’, ‘runjags’, ‘modeest’, ‘semTools’, ‘nimble’, ‘ROI.plugin.ecos’, ‘ROI.plugin.alabama’, ‘ROI.plugin.neos’, ‘meta’, ‘netmeta’, ‘shinyBS’, ‘mbend’, ‘ppcor’, ‘lava’, ‘riskRegression’, ‘weights’, ‘matrixStats’, ‘Rfast’, ‘qs’, ‘roll’, ‘anytime’, ‘fasttime’, ‘stringfish’, ‘coop’, ‘rrapply’, ‘geos’, ‘mvnfast’, ‘distances’, ‘WeightIt’, ‘twang’, ‘twangContinuous’, ‘ebal’, ‘designmatch’, ‘optweight’, ‘MatchThem’, ‘cem’, ‘sbw’, ‘transformr’, ‘profileModel’, ‘zipfR’, ‘FactoInvestigate’, ‘NlcOptim’, ‘optextras’, ‘Gmedian’, ‘rrcov’, ‘ICSNP’, ‘moments’, ‘REPPlab’, ‘marg’, ‘htmlTable’, ‘shinyWidgets’, ‘colourpicker’, ‘ggraph’, ‘flashClust’, ‘bayesQR’, ‘blavaan’, ‘bridgesampling’, ‘detectseparation’, ‘metadat’, ‘robumeta’, ‘geomtextpath’, ‘ggside’, ‘qqplotr’, ‘correlation’, ‘censReg’, ‘epiR’, ‘feisr’, ‘fungible’, ‘JM’, ‘lavaSearch2’, ‘merTools’, ‘metaplus’, ‘stddiff’, ‘tableone’, ‘jtools’, ‘ggpol’, ‘ez’, ‘ggResidpanel’, ‘fastverse’, ‘kit’, ‘distributions3’, ‘PairedData’, ‘fabricatr’, ‘randomizr’, ‘beeswarm’, ‘gld’, ‘plotfunctions’, ‘Matching’, ‘quickmatch’, ‘CBPS’, ‘cobalt’, ‘RcppProgress’, ‘gganimate’, ‘report’, ‘did’, ‘tictoc’, ‘wesanderson’, ‘RItools’, ‘brglm’, ‘languageR’, ‘svDialogs’, ‘SemiPar’, ‘relaimpo’, ‘ca’, ‘missMDA’, ‘Factoshiny’, ‘pracma’, ‘Rcgmin’, ‘Rvmmin’, ‘BiasedUrn’, ‘wildmeta’, ‘estmeansd’, ‘metaBLUE’, ‘bigutilsr’, ‘ICS’, ‘ICSOutlier’, ‘ISLR’, ‘multimode’, ‘tippy’, ‘adespatial’, ‘shape’, ‘rjson’, ‘networkD3’, ‘treemap’, ‘csampling’, ‘VarianceGamma’, ‘SkewHyperbolic’, ‘RcmdrMisc’, ‘aplpack’, ‘nortest’, ‘shock’, ‘RcmdrPlugin.HH’, ‘microplot’, ‘sommer’, ‘SGPdata’, ‘vcr’, ‘bezier’, ‘doRedis’, ‘rbibutils’, ‘pkgmaker’, ‘visNetwork’, ‘coro’, ‘redoc’, ‘rapidoc’, ‘brotli’, ‘zip’, ‘aod’, ‘bayestestR’, ‘brglm2’, ‘clubSandwich’, ‘datawizard’, ‘logistf’, ‘nestedLogit’, ‘see’, ‘sjstats’, ‘effectsize’, ‘insight’, ‘smd’, ‘apollo’, ‘fastDummies’, ‘gmnl’, ‘here’, ‘mixl’, ‘Amelia’, ‘afex’, ‘brmsmargins’, ‘collapse’, ‘conflicted’, ‘crch’, ‘distributional’, ‘equivalence’, ‘estimatr’, ‘fwb’, ‘ggdag’, ‘ggdist’, ‘ggokabeito’, ‘glmx’, ‘itsadug’, ‘ivreg’, ‘MatchIt’, ‘mclogit’, ‘missRanger’, ‘mhurdle’, ‘modelbased’, ‘modelsummary’, ‘optmatch’, ‘phylolm’, ‘prediction’, ‘Rchoice’, ‘scam’, ‘speedglm’, ‘tidymodels’, ‘tinysnapshot’, ‘tsModel’, ‘BayesFactor’, ‘BayesFM’, ‘cAIC4’, ‘cgam’, ‘ClassDiscovery’, ‘cplm’, ‘domir’, ‘EGAnet’, ‘factoextra’, ‘FactoMineR’, ‘ivprobit’, ‘lm.beta’, ‘mediation’, ‘metaBMA’, ‘metafor’, ‘mfx’, ‘mmrm’, ‘NbClust’, ‘nFactors’, ‘PCDimension’, ‘performance’, ‘PROreg’, ‘sparsepca’, ‘WRS2’, ‘ggsurvfit’, ‘reactable’, ‘NISTunits’, ‘measurements’, ‘purrrlyr’, ‘rlang’, ‘pixmap’, ‘Guerry’, ‘rootSolve’, ‘diagram’, ‘sysfonts’, ‘showtextdb’, ‘BayesXsrc’, ‘MBA’, ‘wkb’, ‘mbest’, ‘jsonify’, ‘colourvalues’, ‘sfheaders’, ‘trajectories’, ‘ggmap’, ‘adehabitatMA’, ‘data.tree’, ‘netrankr’, ‘influenceR’, ‘NetSwan’, ‘future.callr’, ‘doFuture’, ‘glba’, ‘binom’, ‘LaplacesDemon’, ‘hoa’, ‘skellam’, ‘triangle’, ‘stringdist’, ‘changepoint’, ‘KFAS’, ‘MSwM’, ‘lfda’, ‘denstrip’, ‘mc2d’, ‘GeneralizedHyperbolic’, ‘dismo’, ‘BRugs’, ‘FMStable’, ‘Rcmdr’, ‘Rmixmod’, ‘xLLiM’, ‘desplot’, ‘gge’, ‘HH’, ‘lucid’, ‘NADA’, ‘nullabor’, ‘qicharts’, ‘qtl’, ‘SpATS’, ‘ramcmc’, ‘sde’, ‘sitmo’, ‘qcc’, ‘r2d2’, ‘SGP’, ‘taxize’, ‘ggstance’, ‘NHANES’, ‘formatR’, ‘palmerpenguins’, ‘heatmaply’, ‘dynamicTreeCut’, ‘pvclust’, ‘circlize’, ‘doRNG’, ‘irlba’, ‘MPsychoR’, ‘calibrate’, ‘BiocManager’, ‘plumber’, ‘webfakes’, ‘R.methodsS3’, ‘biglmm’, ‘ggeffects’, ‘ggstats’, ‘gtsummary’, ‘logitr’, ‘marginaleffects’, ‘margins’, ‘multgee’, ‘parameters’, ‘tidycmprsk’, ‘concaveman’, ‘latex2exp’, ‘units’, ‘questionr’, ‘snakecase’, ‘statnet.common’, ‘ade4TkGUI’, ‘adegraphics’, ‘adephylo’, ‘CircStats’, ‘splancs’, ‘waveslim’, ‘permute’, ‘rainbow’, ‘FME’, ‘spam64’, ‘truncdist’, ‘simplermarkdown’, ‘harrypotter’, ‘oompaBase’, ‘palr’, ‘pals’, ‘scico’, ‘reactlog’, ‘showtext’, ‘R2BayesX’, ‘spData’, ‘spatialreg’, ‘classInt’, ‘rgeoda’, ‘skpr’, ‘geojsonsf’, ‘googleway’, ‘spatialwidget’, ‘ozmaps’, ‘sftime’, ‘geoknife’, ‘areal’, ‘adehabitatLT’, ‘cshapes’, ‘ISOcodes’, ‘httptest2’, ‘tidygraph’, ‘shinythemes’, ‘isa2’, ‘tree’, ‘psychTools’, ‘GPArotation’, ‘Rcsdp’, ‘oz’, ‘miscTools’, ‘dlm’, ‘polycor’, ‘inlinedocs’, ‘pbivnorm’, ‘pbv’, ‘projpred’, ‘RWiener’, ‘rtdists’, ‘extraDistr’, ‘mnormt’, ‘arm’, ‘optimParallel’, ‘orthopolynom’, ‘bayesm’, ‘rjags’, ‘expint’, ‘ROI’, ‘sjmisc’, ‘sjPlot’, ‘WrightMap’, ‘posterior’, ‘ggfortify’, ‘loo’, ‘rpanel’, ‘fitdistrplus’, ‘maxlike’, ‘R2OpenBUGS’, ‘R2WinBUGS’, ‘jagsUI’, ‘stabledist’, ‘rclipboard’, ‘icenReg’, ‘relimp’, ‘benchr’, ‘bife’, ‘qgam’, ‘rcdd’, ‘Infusion’, ‘IsoriX’, ‘blackbox’, ‘ROI.plugin.glpk’, ‘rsae’, ‘multilevel’, ‘agridat’, ‘equatags’, ‘doconv’, ‘officedown’, ‘qpdf’, ‘devEMF’, ‘TTR’, ‘downloader’, ‘gridBase’, ‘WWGbook’, ‘DescTools’, ‘pryr’, ‘invgamma’, ‘ipumsr’, ‘bssm’, ‘EnvStats’, ‘drc’, ‘TRAMPR’, ‘stargazer’, ‘pinp’, ‘flexdashboard’, ‘CVST’, ‘registry’, ‘rngtools’, ‘bigmemory’, ‘synchronicity’, ‘mail’, ‘gplots’, ‘gtools’, ‘agricolae’, ‘mosaic’, ‘dbscan’, ‘DendSer’, ‘dendextend’, ‘GA’, ‘Rtsne’, ‘smacof’, ‘umap’, ‘R2HTML’, ‘rsconnect’, ‘katex’, ‘cleanrmd’, ‘R.oo’, ‘servr’, ‘webshot’, ‘r2rtf’, ‘relsurv’, ‘date’, ‘seasonalview’, ‘broom.helpers’, ‘geosphere’, ‘ggforce’, ‘intergraph’, ‘labelled’, ‘network’, ‘scagnostics’, ‘sna’, ‘itertools’, ‘globals’, ‘listenv’, ‘BatchJobs’, ‘rlecuyer’, ‘scalreg’, ‘binda’, ‘Rglpk’, ‘Rsymphony’, ‘ade4’, ‘vegan’, ‘futile.logger’, ‘fds’, ‘deSolve’, ‘spam’, ‘sn’, ‘ggplot2movies’, ‘digest’, ‘paletteer’, ‘shiny’, ‘KrigInv’, ‘GPareto’, ‘gamboostLSS’, ‘shapefiles’, ‘spdep’, ‘BBmisc’, ‘combinat’, ‘DoE.wrapper’, ‘FrF2.catlg128’, ‘BsMD’, ‘leaflet.extras2’, ‘leafsync’, ‘mapdeck’, ‘plainview’, ‘poorman’, ‘s2’, ‘gsl’, ‘OpenStreetMap’, ‘PCICt’, ‘RNetCDF’, ‘cubble’, ‘cubelyr’, ‘ggthemes’, ‘ncdfgeom’, ‘ncmeta’, ‘spacetime’, ‘tsibble’, ‘rmapshaper’, ‘cartogram’, ‘osmdata’, ‘fastmatch’, ‘DiagrammeRsvg’, ‘arulesViz’, ‘arulesCBA’, ‘biclust’, ‘corrplot’, ‘doBy’, ‘fBasics’, ‘ggdendro’, ‘janitor’, ‘psych’, ‘RODBC’, ‘SnowballC’, ‘dfidx’, ‘ks’, ‘maxLik’, ‘sem’, ‘directlabels’, ‘Rsolnp’, ‘nloptr’, ‘sirt’, ‘plink’, ‘mirtCAT’, ‘rchallenge’, ‘brms’, ‘GLMMadaptive’, ‘lmerTest’, ‘MCMCglmm’, ‘rstanarm’, ‘rstantools’, ‘R2jags’, ‘TMB’, ‘carrier’, ‘BIFIEsurvey’, ‘blme’, ‘CDM’, ‘inline’, ‘MBESS’, ‘mdmb’, ‘sjlabelled’, ‘synthpop’, ‘TAM’, ‘mitools’, ‘StanHeaders’, ‘RcppEigen’, ‘BH’, ‘shinystan’, ‘bayesplot’, ‘sm’, ‘nleqslv’, ‘fftw’, ‘rnaturalearthdata’, ‘lifecycle’, ‘round’, ‘emdbook’, ‘AICcmodavg’, ‘wdm’, ‘cobs’, ‘evd’, ‘gmm’, ‘revdbayes’, ‘ismev’, ‘TruncatedNormal’, ‘TSP’, ‘kdecopula’, ‘coneproj’, ‘setRNG’, ‘BB’, ‘ucminf’, ‘minqa’, ‘lbfgsb3c’, ‘lbfgs’, ‘subplex’, ‘tweedie’, ‘faraway’, ‘scdhlm’, ‘mets’, ‘ssanv’, ‘Exact’, ‘BlakerCI’, ‘VGAMdata’, ‘qvcalc’, ‘glmmML’, ‘cubature’, ‘alpaca’, ‘mgcViz’, ‘spaMM’, ‘flextable’, ‘ftExtra’, ‘officer’, ‘quarto’, ‘quantmod’, ‘RPESE’, ‘RobStatTM’, ‘msm’, ‘pglm’, ‘splm’, ‘candisc’, ‘corrgram’, ‘animation’, ‘mvinfluence’, ‘Matrix’, ‘lqmm’, ‘rlme’, ‘lemon’, ‘ggh4x’, ‘robustvarComp’, ‘distro’, ‘duckdb’, ‘nanotime’, ‘Ecfun’, ‘wooldridge’, ‘RcppZiggurat’, ‘NLP’, ‘antiword’, ‘filehash’, ‘Rpoppler’, ‘Metrics’, ‘tfestimators’, ‘shinytest’, ‘whoami’, ‘DRR’, ‘NMF’, ‘cccd’, ‘coRanking’, ‘diffusionMap’, ‘energy’, ‘loe’, ‘pcaL1’, ‘flexsurvcure’, ‘survminer’, ‘eha’, ‘gmodels’, ‘Fahrmeir’, ‘Sleuth2’, ‘seriation’, ‘R.devices’, ‘ascii’, ‘rmarkdown’, ‘slackr’, ‘RPushbullet’, ‘telegram’, ‘rsyslog’, ‘txtq’, ‘botor’, ‘R.utils’, ‘syslognet’, ‘bookdown’, ‘formatters’, ‘mstate’, ‘demography’, ‘popEpi’, ‘forecTheta’, ‘rticles’, ‘seasonal’, ‘uroot’, ‘ICEbox’, ‘reticulate’, ‘dichromat’, ‘mapproj’, ‘eaf’, ‘GGally’, ‘lhs’, ‘bartMachineJARs’, ‘missForest’, ‘debugme’, ‘doMPI’, ‘future.batchtools’, ‘parallelMap’, ‘snow’, ‘truncnorm’, ‘hdi’, ‘gdata’, ‘corpcor’, ‘crossval’, ‘lpSolve’, ‘quadprog’, ‘relations’, ‘OpenImageR’, ‘FD’, ‘Cairo’, ‘gridGraphics’, ‘PASWR’, ‘patchwork’, ‘VennDiagram’, ‘fda’, ‘fields’, ‘mapdata’, ‘chemometrics’, ‘tclust’, ‘pdfCluster’, ‘entropy’, ‘pbapply’, ‘ggplot2’, ‘plot3Drgl’, ‘qreport’, ‘acepack’, ‘pcaPP’, ‘polspline’, ‘abind’, ‘gt’, ‘sparkline’, ‘DiceOptim’, ‘patrick’, ‘tufte’, ‘stabs’, ‘BayesX’, ‘kangar00’, ‘mldr.datasets’, ‘cmaesr’, ‘cmprsk’, ‘pwr’, ‘NSM3’, ‘Vdgraph’, ‘conf.design’, ‘DoE.base’, ‘FrF2’, ‘NeuralNetTools’, ‘dtw’, ‘rbenchmark’, ‘fdrtool’, ‘lwgeom’, ‘mapview’, ‘odbc’, ‘pool’, ‘RPostgres’, ‘spatstat.random’, ‘stars’, ‘tmap’, ‘wk’, ‘checkmate’, ‘plot3D’, ‘fontquiver’, ‘Mcomp’, ‘DiagrammeR’, ‘Ckmeans.1d.dp’, ‘float’, ‘titanic’, ‘amap’, ‘arules’, ‘neighbr’, ‘rattle’, ‘fGarch’, ‘ineq’, ‘longmemo’, ‘mlogit’, ‘np’, ‘rugarch’, ‘sampleSelection’, ‘systemfit’, ‘truncreg’, ‘urca’, ‘vars’, ‘likert’, ‘mirt’, ‘stablelearner’, ‘betareg’, ‘logcondens’, ‘broom.mixed’, ‘furrr’, ‘miceadds’, ‘pan’, ‘parallelly’, ‘rstan’, ‘av’, ‘spelling’, ‘rsvg’, ‘webp’, ‘pdftools’, ‘gapminder’, ‘tesseract’, ‘gifski’, ‘alphahull’, ‘fontcm’, ‘dygraphs’, ‘leaflet’, ‘showimage’, ‘spatstat.data’, ‘spatstat.explore’, ‘spatstat.model’, ‘spatial’, ‘fftwtools’, ‘rnaturalearth’, ‘ncdf4’, ‘rasterVis’, ‘exactextractr’, ‘goftest’, ‘future.apply’, ‘openxlsx’, ‘RJSONIO’, ‘tth’, ‘gmp’, ‘Bessel’, ‘polynom’, ‘rngWELL’, ‘bbmle’, ‘crop’, ‘lcopula’, ‘mev’, ‘mvnormtest’, ‘partitions’, ‘Runuran’, ‘VineCopula’, ‘basefun’, ‘variables’, ‘nor1mix’, ‘conquer’, ‘MEMSS’, ‘mlmRev’, ‘optimx’, ‘gamm4’, ‘dfoptim’, ‘statmod’, ‘rr2’, ‘semEff’, ‘nonnest2’, ‘lavaan’, ‘lmeInfo’, ‘bdsmatrix’, ‘kinship2’, ‘ICsurv’, ‘bshazard’, ‘gss’, ‘TransModel’, ‘dynsurv’, ‘timereg’, ‘survivalMPL’, ‘muhaz’, ‘exact2x2’, ‘exactci’, ‘bpcp’, ‘bootstrap’, ‘gamlss.dist’, ‘VGAMextra’, ‘formattable’, ‘robust’, ‘fit.models’, ‘MPV’, ‘catdata’, ‘skewt’, ‘lfe’, ‘estimability’, ‘DHARMa’, ‘dotwhisker’, ‘texreg’, ‘huxtable’, ‘mvabund’, ‘PerformanceAnalytics’, ‘fTrading’, ‘pder’, ‘MCMCpack’, ‘poLCA’, ‘heplots’, ‘robustlmm’, ‘biglm’, ‘arrow’, ‘feather’, ‘fst’, ‘hexView’, ‘pzfx’, ‘readODS’, ‘rmatio’, ‘CompQuadForm’, ‘expm’, ‘codetools’, ‘diptest’, ‘Ecdat’, ‘SuppDists’, ‘geoR’, ‘mix’, ‘tm’, ‘ggbeeswarm’, ‘ggridges’, ‘googleVis’, ‘DBItest’, ‘diffviewer’, ‘repurrrsive’, ‘lokern’, ‘R.matlab’, ‘tfdatasets’, ‘janeaustenr’, ‘r2d3’, ‘pkgKitten’, ‘clisymbols’, ‘clustMixType’, ‘dbarts’, ‘dimRed’, ‘flexsurv’, ‘QSARdata’, ‘xrf’, ‘vcdExtra’, ‘RhpcBLASctl’, ‘R.rsp’, ‘markdown’, ‘sylly’, ‘sylly.en’, ‘logger’, ‘microbenchmark’, ‘descr’, ‘tables’, ‘reshape’, ‘memisc’, ‘Epi’, ‘forecast’, ‘pdp’, ‘tinytest’, ‘viridis’, ‘lars’, ‘ParamHelpers’, ‘ada’, ‘adabag’, ‘bartMachine’, ‘batchtools’, ‘brnn’, ‘bst’, ‘care’, ‘clue’, ‘ClusterR’, ‘clusterSim’, ‘cmaes’, ‘cowplot’, ‘crs’, ‘deepnet’, ‘DiceKriging’, ‘elasticnet’, ‘emoa’, ‘evtree’, ‘fda.usc’, ‘FDboost’, ‘FNN’, ‘fpc’, ‘frbs’, ‘FSelector’, ‘FSelectorRcpp’, ‘GenSA’, ‘ggpubr’, ‘GPfit’, ‘h2o’, ‘Hmisc’, ‘irace’, ‘kknn’, ‘laGP’, ‘LiblineaR’, ‘lintr’, ‘mboost’, ‘mco’, ‘mldr’, ‘mlrMBO’, ‘mmpf’, ‘mRMRe’, ‘pec’, ‘penalized’, ‘PMCMRplus’, ‘praznik’, ‘refund’, ‘rex’, ‘rFerns’, ‘rgenoud’, ‘ROCR’, ‘rotationForest’, ‘RRF’, ‘rsm’, ‘RSNNS’, ‘rucrdtw’, ‘RWeka’, ‘sda’, ‘sf’, ‘smoof’, ‘sparseLDA’, ‘stepPlr’, ‘survAUC’, ‘svglite’, ‘SwarmSVM’, ‘tgp’, ‘tsfeatures’, ‘vdiffr’, ‘wavelets’, ‘xgboost’, ‘libcoin’, ‘pmml’, ‘rJava’, ‘AER’, ‘psychotools’, ‘psychotree’, ‘glmertree’, ‘pROC’, ‘mice’, ‘deldir’, ‘orientlib’, ‘misc3d’, ‘magick’, ‘tripack’, ‘alphashape3d’, ‘js’, ‘webshot2’, ‘extrafont’, ‘manipulateWidget’, ‘V8’, ‘chromote’, ‘jpeg’, ‘rgeos’, ‘spatstat.geom’, ‘PBSmapping’, ‘maps’, ‘raster’, ‘polyclip’, ‘spatstat.linnet’, ‘spatstat.utils’, ‘spatstat’, ‘iterators’, ‘rgdal’, ‘gstat’, ‘terra’, ‘exams’, ‘unix’, ‘Rmpfr’, ‘egg’, ‘randtoolbox’, ‘copula’, ‘mlt’, ‘quantreg’, ‘lme4’, ‘merDeriv’, ‘SparseGrid’, ‘alabama’, ‘latticeExtra’, ‘ordinalCont’, ‘coxme’, ‘mlt.docreg’, ‘ordinal’, ‘asht’, ‘gamlss’, ‘boot’, ‘rmsb’, ‘VGAM’, ‘kableExtra’, ‘robustbase’, ‘foreign’, ‘SimComp’, ‘ISwR’, ‘fixest’, ‘glmmTMB’, ‘coda’, ‘chron’, ‘mondate’, ‘stinepack’, ‘timeDate’, ‘timeSeries’, ‘tis’, ‘xts’, ‘geepack’, ‘multiwayvcov’, ‘pcse’, ‘plm’, ‘pscl’, ‘carData’, ‘alr4’, ‘effects’, ‘leaps’, ‘MatrixModels’, ‘rio’, ‘survey’, ‘TSA’, ‘ape’, ‘flexmix’, ‘gamair’, ‘gamlss.data’, ‘gee’, ‘mclust’, ‘rmeta’, ‘wordcloud’, ‘HSAUR2’, ‘bitops’, ‘RCurl’, ‘bench’, ‘Lahman’, ‘lobstr’, ‘nycflights13’, ‘RMySQL’, ‘RPostgreSQL’, ‘RSQLite’, ‘testthat’, ‘tidyr’, ‘sfsmisc’, ‘geometry’, ‘decor’, ‘igraphdata’, ‘ggrepel’, ‘keras’, ‘prodlim’, ‘sparklyr’, ‘tensorflow’, ‘prettydoc’, ‘RcppArmadillo’, ‘butcher’, ‘gnm’, ‘future’, ‘testit’, ‘AmesHousing’, ‘C50’, ‘rpart.plot’, ‘pander’, ‘plotrix’, ‘gbm’, ‘glmnet’, ‘glmnetUtils’, ‘mlr’, ‘neuralnet’, ‘partykit’, ‘pre’, ‘tkrplot’, ‘rgl’, ‘tcltk2’, ‘png’, ‘logspline’, ‘maptools’, ‘manipulate’, ‘doMC’, ‘doParallel’, ‘sp’, ‘Deriv’, ‘Ryacas’, ‘gridExtra’, ‘qrng’, ‘numDeriv’, ‘trtf’, ‘tram’, ‘rms’, ‘coin’, ‘ATR’, ‘multcomp’, ‘SparseM’, ‘slam’, ‘zoo’, ‘sandwich’, ‘car’, ‘dynlm’, ‘lmtest’, ‘tseries’, ‘KernSmooth’, ‘HSAUR3’, ‘measures’, ‘ranger’, ‘XML’, ‘gclus’, ‘dplyr’, ‘ddalpha’, ‘igraph’, ‘parsnip’, ‘RcppRoll’, ‘rsample’, ‘RSpectra’, ‘splines2’, ‘workflows’, ‘prefmod’, ‘DT’, ‘mockery’, ‘modeldata’, ‘tidyrules’, ‘Formula’, ‘plotmo’, ‘TeachingDemos’, ‘foreach’, ‘interp’, ‘mvtnorm’, ‘TH.data’, ‘scatterplot3d’, ‘som’, ‘e1071’, ‘class’, ‘cluster’, ‘survival’, ‘modeltools’, ‘strucchange’, ‘vcd’, ‘varImp’, ‘Rmpi’, ‘RUnit’, ‘cba’, ‘recipes’, ‘dials’, ‘BradleyTerry2’, ‘covr’, ‘Cubist’, ‘earth’, ‘ellipse’, ‘fastICA’, ‘gam’, ‘ipred’, ‘kernlab’, ‘klaR’, ‘mda’, ‘mlbench’, ‘MLmetrics’, ‘nnet’, ‘pamr’, ‘party’, ‘pls’, ‘proxy’, ‘RANN’, ‘rpart’, ‘spls’, ‘subselect’, ‘superpc’, ‘themis’\n",
      "\n",
      "\n"
     ]
    }
   ],
   "source": [
    "install.packages(\"caret\", dependencies=c(\"Depends\", \"Suggests\"))"
   ]
  },
  {
   "cell_type": "code",
   "execution_count": 4,
   "id": "b49aaba4-c629-4a03-ad9d-0f5454675713",
   "metadata": {
    "tags": []
   },
   "outputs": [],
   "source": [
    "filename <- \"iris.csv\""
   ]
  },
  {
   "cell_type": "markdown",
   "id": "792dce3d-3ac5-4a68-9e06-fcb576299223",
   "metadata": {
    "tags": []
   },
   "source": [
    "# load the CSV file from the local directory"
   ]
  },
  {
   "cell_type": "code",
   "execution_count": 5,
   "id": "5a1c5f49-54e9-4717-838b-a5f897ad6ef9",
   "metadata": {
    "tags": []
   },
   "outputs": [],
   "source": [
    "dataset <- read.csv(filename, header=FALSE)"
   ]
  },
  {
   "cell_type": "markdown",
   "id": "af58cb1a-c9e1-406c-a5f1-df9933a8fa7a",
   "metadata": {
    "tags": []
   },
   "source": [
    "# set the column names in the dataset"
   ]
  },
  {
   "cell_type": "code",
   "execution_count": 6,
   "id": "8930cca5-2edc-4b98-ae56-41d3213f0118",
   "metadata": {
    "tags": []
   },
   "outputs": [],
   "source": [
    "colnames(dataset) <- c(\"Sepal.Length\",\"Sepal.Width\",\"Petal.Length\",\"Petal.Width\",\"Species\")"
   ]
  },
  {
   "cell_type": "markdown",
   "id": "eee14fea-e792-40c1-8b81-4ac6207c294d",
   "metadata": {
    "tags": []
   },
   "source": [
    "# create a list of 80% of the rows in the original dataset we can use for training"
   ]
  },
  {
   "cell_type": "code",
   "execution_count": 7,
   "id": "8c8c99c3-5185-4d3e-b2e0-eceea6592f64",
   "metadata": {
    "tags": []
   },
   "outputs": [
    {
     "ename": "ERROR",
     "evalue": "Error in createDataPartition(dataset$Species, p = 0.8, list = FALSE): could not find function \"createDataPartition\"\n",
     "output_type": "error",
     "traceback": [
      "Error in createDataPartition(dataset$Species, p = 0.8, list = FALSE): could not find function \"createDataPartition\"\nTraceback:\n"
     ]
    }
   ],
   "source": [
    "validation_index <- createDataPartition(dataset$Species, p=0.80, list=FALSE)"
   ]
  },
  {
   "cell_type": "markdown",
   "id": "39331a97-b551-4959-8055-4baf36e00d85",
   "metadata": {
    "tags": []
   },
   "source": [
    "# select 20% of the data for validation"
   ]
  },
  {
   "cell_type": "code",
   "execution_count": 8,
   "id": "36a90268-9c27-4e19-baf3-c3db5fc49972",
   "metadata": {
    "tags": []
   },
   "outputs": [
    {
     "ename": "ERROR",
     "evalue": "Error in `[.data.frame`(dataset, -validation_index, ): object 'validation_index' not found\n",
     "output_type": "error",
     "traceback": [
      "Error in `[.data.frame`(dataset, -validation_index, ): object 'validation_index' not found\nTraceback:\n",
      "1. dataset[-validation_index, ]",
      "2. `[.data.frame`(dataset, -validation_index, )"
     ]
    }
   ],
   "source": [
    "validation <- dataset[-validation_index,]"
   ]
  },
  {
   "cell_type": "markdown",
   "id": "b438650d-451a-4d8c-b40f-fdd9d7fb33f4",
   "metadata": {
    "tags": []
   },
   "source": [
    "# use the remaining 80% of data to training and testing the models"
   ]
  },
  {
   "cell_type": "code",
   "execution_count": 9,
   "id": "ef21e0cd-ded2-4573-baf0-912bb1a3acc4",
   "metadata": {
    "tags": []
   },
   "outputs": [
    {
     "ename": "ERROR",
     "evalue": "Error in `[.data.frame`(dataset, validation_index, ): object 'validation_index' not found\n",
     "output_type": "error",
     "traceback": [
      "Error in `[.data.frame`(dataset, validation_index, ): object 'validation_index' not found\nTraceback:\n",
      "1. dataset[validation_index, ]",
      "2. `[.data.frame`(dataset, validation_index, )"
     ]
    }
   ],
   "source": [
    "dataset <- dataset[validation_index,]"
   ]
  },
  {
   "cell_type": "markdown",
   "id": "fa4c9f0b-e2be-4777-8cec-1b564d54f462",
   "metadata": {},
   "source": [
    "# dimensions of dataset"
   ]
  },
  {
   "cell_type": "code",
   "execution_count": 10,
   "id": "48584430-b6d2-4f77-b57a-85eca8b493ab",
   "metadata": {
    "tags": []
   },
   "outputs": [
    {
     "data": {
      "text/html": [
       "<style>\n",
       ".list-inline {list-style: none; margin:0; padding: 0}\n",
       ".list-inline>li {display: inline-block}\n",
       ".list-inline>li:not(:last-child)::after {content: \"\\00b7\"; padding: 0 .5ex}\n",
       "</style>\n",
       "<ol class=list-inline><li>151</li><li>5</li></ol>\n"
      ],
      "text/latex": [
       "\\begin{enumerate*}\n",
       "\\item 151\n",
       "\\item 5\n",
       "\\end{enumerate*}\n"
      ],
      "text/markdown": [
       "1. 151\n",
       "2. 5\n",
       "\n",
       "\n"
      ],
      "text/plain": [
       "[1] 151   5"
      ]
     },
     "metadata": {},
     "output_type": "display_data"
    }
   ],
   "source": [
    "dim(dataset)"
   ]
  },
  {
   "cell_type": "markdown",
   "id": "572b3070-c842-4740-99c8-8d6290fb8d10",
   "metadata": {},
   "source": [
    "# list types for each attribute"
   ]
  },
  {
   "cell_type": "code",
   "execution_count": 11,
   "id": "22736098-e715-450c-9100-b897a53a39a5",
   "metadata": {},
   "outputs": [
    {
     "data": {
      "text/html": [
       "<style>\n",
       ".dl-inline {width: auto; margin:0; padding: 0}\n",
       ".dl-inline>dt, .dl-inline>dd {float: none; width: auto; display: inline-block}\n",
       ".dl-inline>dt::after {content: \":\\0020\"; padding-right: .5ex}\n",
       ".dl-inline>dt:not(:first-of-type) {padding-left: .5ex}\n",
       "</style><dl class=dl-inline><dt>Sepal.Length</dt><dd>'character'</dd><dt>Sepal.Width</dt><dd>'character'</dd><dt>Petal.Length</dt><dd>'character'</dd><dt>Petal.Width</dt><dd>'character'</dd><dt>Species</dt><dd>'character'</dd></dl>\n"
      ],
      "text/latex": [
       "\\begin{description*}\n",
       "\\item[Sepal.Length] 'character'\n",
       "\\item[Sepal.Width] 'character'\n",
       "\\item[Petal.Length] 'character'\n",
       "\\item[Petal.Width] 'character'\n",
       "\\item[Species] 'character'\n",
       "\\end{description*}\n"
      ],
      "text/markdown": [
       "Sepal.Length\n",
       ":   'character'Sepal.Width\n",
       ":   'character'Petal.Length\n",
       ":   'character'Petal.Width\n",
       ":   'character'Species\n",
       ":   'character'\n",
       "\n"
      ],
      "text/plain": [
       "Sepal.Length  Sepal.Width Petal.Length  Petal.Width      Species \n",
       " \"character\"  \"character\"  \"character\"  \"character\"  \"character\" "
      ]
     },
     "metadata": {},
     "output_type": "display_data"
    }
   ],
   "source": [
    "sapply(dataset, class)"
   ]
  },
  {
   "cell_type": "markdown",
   "id": "7bfb45e8-66e4-4053-966c-728870545c4e",
   "metadata": {},
   "source": [
    "# take a peek at the first 5 rows of the data"
   ]
  },
  {
   "cell_type": "code",
   "execution_count": 12,
   "id": "2f5c6235-c813-42aa-a85f-737d109d7e06",
   "metadata": {
    "tags": []
   },
   "outputs": [
    {
     "data": {
      "text/html": [
       "<table class=\"dataframe\">\n",
       "<caption>A data.frame: 6 × 5</caption>\n",
       "<thead>\n",
       "\t<tr><th></th><th scope=col>Sepal.Length</th><th scope=col>Sepal.Width</th><th scope=col>Petal.Length</th><th scope=col>Petal.Width</th><th scope=col>Species</th></tr>\n",
       "\t<tr><th></th><th scope=col>&lt;chr&gt;</th><th scope=col>&lt;chr&gt;</th><th scope=col>&lt;chr&gt;</th><th scope=col>&lt;chr&gt;</th><th scope=col>&lt;chr&gt;</th></tr>\n",
       "</thead>\n",
       "<tbody>\n",
       "\t<tr><th scope=row>1</th><td>sepal_length</td><td>sepal_width</td><td>petal_length</td><td>petal_width</td><td>name  </td></tr>\n",
       "\t<tr><th scope=row>2</th><td>5.1         </td><td>3.5        </td><td>1.4         </td><td>0.2        </td><td>setosa</td></tr>\n",
       "\t<tr><th scope=row>3</th><td>4.9         </td><td>3.0        </td><td>1.4         </td><td>0.2        </td><td>setosa</td></tr>\n",
       "\t<tr><th scope=row>4</th><td>4.7         </td><td>3.2        </td><td>1.3         </td><td>0.2        </td><td>setosa</td></tr>\n",
       "\t<tr><th scope=row>5</th><td>4.6         </td><td>3.1        </td><td>1.5         </td><td>0.2        </td><td>setosa</td></tr>\n",
       "\t<tr><th scope=row>6</th><td>5.0         </td><td>3.6        </td><td>1.4         </td><td>0.2        </td><td>setosa</td></tr>\n",
       "</tbody>\n",
       "</table>\n"
      ],
      "text/latex": [
       "A data.frame: 6 × 5\n",
       "\\begin{tabular}{r|lllll}\n",
       "  & Sepal.Length & Sepal.Width & Petal.Length & Petal.Width & Species\\\\\n",
       "  & <chr> & <chr> & <chr> & <chr> & <chr>\\\\\n",
       "\\hline\n",
       "\t1 & sepal\\_length & sepal\\_width & petal\\_length & petal\\_width & name  \\\\\n",
       "\t2 & 5.1          & 3.5         & 1.4          & 0.2         & setosa\\\\\n",
       "\t3 & 4.9          & 3.0         & 1.4          & 0.2         & setosa\\\\\n",
       "\t4 & 4.7          & 3.2         & 1.3          & 0.2         & setosa\\\\\n",
       "\t5 & 4.6          & 3.1         & 1.5          & 0.2         & setosa\\\\\n",
       "\t6 & 5.0          & 3.6         & 1.4          & 0.2         & setosa\\\\\n",
       "\\end{tabular}\n"
      ],
      "text/markdown": [
       "\n",
       "A data.frame: 6 × 5\n",
       "\n",
       "| <!--/--> | Sepal.Length &lt;chr&gt; | Sepal.Width &lt;chr&gt; | Petal.Length &lt;chr&gt; | Petal.Width &lt;chr&gt; | Species &lt;chr&gt; |\n",
       "|---|---|---|---|---|---|\n",
       "| 1 | sepal_length | sepal_width | petal_length | petal_width | name   |\n",
       "| 2 | 5.1          | 3.5         | 1.4          | 0.2         | setosa |\n",
       "| 3 | 4.9          | 3.0         | 1.4          | 0.2         | setosa |\n",
       "| 4 | 4.7          | 3.2         | 1.3          | 0.2         | setosa |\n",
       "| 5 | 4.6          | 3.1         | 1.5          | 0.2         | setosa |\n",
       "| 6 | 5.0          | 3.6         | 1.4          | 0.2         | setosa |\n",
       "\n"
      ],
      "text/plain": [
       "  Sepal.Length Sepal.Width Petal.Length Petal.Width Species\n",
       "1 sepal_length sepal_width petal_length petal_width name   \n",
       "2 5.1          3.5         1.4          0.2         setosa \n",
       "3 4.9          3.0         1.4          0.2         setosa \n",
       "4 4.7          3.2         1.3          0.2         setosa \n",
       "5 4.6          3.1         1.5          0.2         setosa \n",
       "6 5.0          3.6         1.4          0.2         setosa "
      ]
     },
     "metadata": {},
     "output_type": "display_data"
    }
   ],
   "source": [
    "head(dataset)"
   ]
  },
  {
   "cell_type": "markdown",
   "id": "e6e06fb7-fbf2-422e-87d7-5b5499dbeb48",
   "metadata": {},
   "source": [
    "# list the levels for the class"
   ]
  },
  {
   "cell_type": "code",
   "execution_count": 13,
   "id": "b1e6ea67-b9f0-4b81-a95c-ac09b72bf248",
   "metadata": {
    "tags": []
   },
   "outputs": [
    {
     "data": {
      "text/plain": [
       "NULL"
      ]
     },
     "metadata": {},
     "output_type": "display_data"
    }
   ],
   "source": [
    "levels(dataset$Species)"
   ]
  },
  {
   "cell_type": "markdown",
   "id": "320d8432-ddbf-4ea4-b6e8-9433e67bafb6",
   "metadata": {},
   "source": [
    "# summarize the class distribution"
   ]
  },
  {
   "cell_type": "code",
   "execution_count": 14,
   "id": "e2568d6d-97a8-4ede-864f-9960c03a558f",
   "metadata": {
    "tags": []
   },
   "outputs": [
    {
     "data": {
      "text/html": [
       "<table class=\"dataframe\">\n",
       "<caption>A matrix: 4 × 2 of type dbl</caption>\n",
       "<thead>\n",
       "\t<tr><th></th><th scope=col>freq</th><th scope=col>percentage</th></tr>\n",
       "</thead>\n",
       "<tbody>\n",
       "\t<tr><th scope=row>name</th><td> 1</td><td> 0.6622517</td></tr>\n",
       "\t<tr><th scope=row>setosa</th><td>50</td><td>33.1125828</td></tr>\n",
       "\t<tr><th scope=row>versicolor</th><td>50</td><td>33.1125828</td></tr>\n",
       "\t<tr><th scope=row>virginica</th><td>50</td><td>33.1125828</td></tr>\n",
       "</tbody>\n",
       "</table>\n"
      ],
      "text/latex": [
       "A matrix: 4 × 2 of type dbl\n",
       "\\begin{tabular}{r|ll}\n",
       "  & freq & percentage\\\\\n",
       "\\hline\n",
       "\tname &  1 &  0.6622517\\\\\n",
       "\tsetosa & 50 & 33.1125828\\\\\n",
       "\tversicolor & 50 & 33.1125828\\\\\n",
       "\tvirginica & 50 & 33.1125828\\\\\n",
       "\\end{tabular}\n"
      ],
      "text/markdown": [
       "\n",
       "A matrix: 4 × 2 of type dbl\n",
       "\n",
       "| <!--/--> | freq | percentage |\n",
       "|---|---|---|\n",
       "| name |  1 |  0.6622517 |\n",
       "| setosa | 50 | 33.1125828 |\n",
       "| versicolor | 50 | 33.1125828 |\n",
       "| virginica | 50 | 33.1125828 |\n",
       "\n"
      ],
      "text/plain": [
       "           freq percentage\n",
       "name        1    0.6622517\n",
       "setosa     50   33.1125828\n",
       "versicolor 50   33.1125828\n",
       "virginica  50   33.1125828"
      ]
     },
     "metadata": {},
     "output_type": "display_data"
    }
   ],
   "source": [
    "percentage <- prop.table(table(dataset$Species)) * 100\n",
    "cbind(freq=table(dataset$Species), percentage=percentage)"
   ]
  },
  {
   "cell_type": "markdown",
   "id": "7fe6509d-1286-4314-8521-47bcdc4ca50e",
   "metadata": {},
   "source": [
    "# summarize attribute distributions"
   ]
  },
  {
   "cell_type": "code",
   "execution_count": 15,
   "id": "6c059301-ebc5-4722-a8d3-2c28ec6c1d1d",
   "metadata": {
    "tags": []
   },
   "outputs": [
    {
     "data": {
      "text/plain": [
       " Sepal.Length       Sepal.Width        Petal.Length       Petal.Width       \n",
       " Length:151         Length:151         Length:151         Length:151        \n",
       " Class :character   Class :character   Class :character   Class :character  \n",
       " Mode  :character   Mode  :character   Mode  :character   Mode  :character  \n",
       "   Species         \n",
       " Length:151        \n",
       " Class :character  \n",
       " Mode  :character  "
      ]
     },
     "metadata": {},
     "output_type": "display_data"
    }
   ],
   "source": [
    "summary(dataset)"
   ]
  },
  {
   "cell_type": "markdown",
   "id": "efa8d03d-334a-4b05-aa53-9cff1417248e",
   "metadata": {},
   "source": [
    "# split input and output"
   ]
  },
  {
   "cell_type": "code",
   "execution_count": 16,
   "id": "385c294d-778b-463a-8991-67ce631fe89d",
   "metadata": {
    "tags": []
   },
   "outputs": [],
   "source": [
    "x <- dataset[,1:4]\n",
    "y <- dataset[,5]"
   ]
  },
  {
   "cell_type": "markdown",
   "id": "da3d9b41-d161-43ab-821f-267d6aa41b07",
   "metadata": {},
   "source": [
    "# boxplot for each attribute on one image"
   ]
  },
  {
   "cell_type": "code",
   "execution_count": 18,
   "id": "ea5519ab-7b99-49b9-869e-d840cc857fbf",
   "metadata": {
    "tags": []
   },
   "outputs": [
    {
     "ename": "ERROR",
     "evalue": "Error in x[floor(d)] + x[ceiling(d)]: non-numeric argument to binary operator\n",
     "output_type": "error",
     "traceback": [
      "Error in x[floor(d)] + x[ceiling(d)]: non-numeric argument to binary operator\nTraceback:\n",
      "1. boxplot(x[, i], main = names(iris)[i])",
      "2. boxplot.default(x[, i], main = names(iris)[i])",
      "3. boxplot.stats(unclass(groups[[i]]), range)",
      "4. stats::fivenum(x, na.rm = TRUE)"
     ]
    }
   ],
   "source": [
    "par(mfrow=c(1,4))\n",
    "  for(i in 1:4) {\n",
    "  boxplot(x[,i], main=names(iris)[i])\n",
    "}"
   ]
  },
  {
   "cell_type": "markdown",
   "id": "98ef519d-7d73-4288-a271-b09d4ea6d752",
   "metadata": {},
   "source": [
    "# barplot for class breakdown"
   ]
  },
  {
   "cell_type": "code",
   "execution_count": 19,
   "id": "8afee084-dae4-4e88-aee6-be19be667f8f",
   "metadata": {
    "tags": []
   },
   "outputs": [
    {
     "name": "stderr",
     "output_type": "stream",
     "text": [
      "Warning message in xy.coords(x, y, xlabel, ylabel, log):\n",
      "“NAs introduced by coercion”\n",
      "Warning message in min(x):\n",
      "“no non-missing arguments to min; returning Inf”\n",
      "Warning message in max(x):\n",
      "“no non-missing arguments to max; returning -Inf”\n"
     ]
    },
    {
     "ename": "ERROR",
     "evalue": "Error in plot.window(...): need finite 'ylim' values\n",
     "output_type": "error",
     "traceback": [
      "Error in plot.window(...): need finite 'ylim' values\nTraceback:\n",
      "1. plot(y)",
      "2. plot.default(y)",
      "3. localWindow(xlim, ylim, log, asp, ...)",
      "4. plot.window(...)"
     ]
    },
    {
     "data": {
      "image/png": "[encoded data removed]",
      "text/plain": [
       "plot without title"
      ]
     },
     "metadata": {
      "image/png": {
       "height": 420,
       "width": 420
      }
     },
     "output_type": "display_data"
    }
   ],
   "source": [
    "plot(y)"
   ]
  },
  {
   "cell_type": "markdown",
   "id": "9e8ed28c-dfd7-45c2-bcd1-adf0d5803e0e",
   "metadata": {},
   "source": [
    "# scatterplot matrix"
   ]
  },
  {
   "cell_type": "code",
   "execution_count": 20,
   "id": "f8c13748-dd2d-4eae-935f-689de411e72c",
   "metadata": {
    "tags": []
   },
   "outputs": [
    {
     "ename": "ERROR",
     "evalue": "Error in featurePlot(x = x, y = y, plot = \"ellipse\"): could not find function \"featurePlot\"\n",
     "output_type": "error",
     "traceback": [
      "Error in featurePlot(x = x, y = y, plot = \"ellipse\"): could not find function \"featurePlot\"\nTraceback:\n"
     ]
    }
   ],
   "source": [
    "featurePlot(x=x, y=y, plot=\"ellipse\")"
   ]
  },
  {
   "cell_type": "markdown",
   "id": "325108be-1327-4008-8b4b-c0252eabe833",
   "metadata": {},
   "source": [
    "# box and whisker plots for each attribute"
   ]
  },
  {
   "cell_type": "code",
   "execution_count": 21,
   "id": "3b198810-5269-44cb-932a-9712e96800ad",
   "metadata": {
    "tags": []
   },
   "outputs": [
    {
     "ename": "ERROR",
     "evalue": "Error in featurePlot(x = x, y = y, plot = \"box\"): could not find function \"featurePlot\"\n",
     "output_type": "error",
     "traceback": [
      "Error in featurePlot(x = x, y = y, plot = \"box\"): could not find function \"featurePlot\"\nTraceback:\n"
     ]
    }
   ],
   "source": [
    "featurePlot(x=x, y=y, plot=\"box\")"
   ]
  },
  {
   "cell_type": "markdown",
   "id": "59228bd6-d080-4a00-a80c-31142cfc683a",
   "metadata": {},
   "source": [
    "# density plots for each attribute by class value"
   ]
  },
  {
   "cell_type": "code",
   "execution_count": 22,
   "id": "c48c3168-0285-45c9-8402-1d18d157e750",
   "metadata": {
    "tags": []
   },
   "outputs": [
    {
     "ename": "ERROR",
     "evalue": "Error in featurePlot(x = x, y = y, plot = \"density\", scales = scales): could not find function \"featurePlot\"\n",
     "output_type": "error",
     "traceback": [
      "Error in featurePlot(x = x, y = y, plot = \"density\", scales = scales): could not find function \"featurePlot\"\nTraceback:\n"
     ]
    }
   ],
   "source": [
    "scales <- list(x=list(relation=\"free\"), y=list(relation=\"free\"))\n",
    "featurePlot(x=x, y=y, plot=\"density\", scales=scales)"
   ]
  },
  {
   "cell_type": "markdown",
   "id": "83b7f93e-d450-45de-8c1f-3282aa079aec",
   "metadata": {},
   "source": [
    "# Run algorithms using 10-fold cross validation"
   ]
  },
  {
   "cell_type": "code",
   "execution_count": 23,
   "id": "1cad427d-4b43-4766-9fc4-7554ac5440c7",
   "metadata": {
    "tags": []
   },
   "outputs": [
    {
     "ename": "ERROR",
     "evalue": "Error in trainControl(method = \"cv\", number = 10): could not find function \"trainControl\"\n",
     "output_type": "error",
     "traceback": [
      "Error in trainControl(method = \"cv\", number = 10): could not find function \"trainControl\"\nTraceback:\n"
     ]
    }
   ],
   "source": [
    "control <- trainControl(method=\"cv\", number=10)\n",
    "metric <- \"Accuracy\""
   ]
  },
  {
   "cell_type": "markdown",
   "id": "6dbf4540-0be2-44eb-a17c-1ebe73d2c68f",
   "metadata": {},
   "source": [
    "# a) linear algorithms"
   ]
  },
  {
   "cell_type": "code",
   "execution_count": null,
   "id": "5be59a06-568b-4fe7-accf-23de4bb00e6b",
   "metadata": {},
   "outputs": [],
   "source": [
    "set.seed(7)\n",
    "fit.lda <- train(Species~., data=dataset, method=\"lda\", metric=metric, trControl=control)"
   ]
  },
  {
   "cell_type": "markdown",
   "id": "362da42c-5e66-4909-b4ae-8e2f4936b372",
   "metadata": {},
   "source": [
    "# b) nonlinear algorithms\n",
    "# CART"
   ]
  },
  {
   "cell_type": "code",
   "execution_count": 24,
   "id": "97229712-e0ba-444a-9d50-6765d8232da3",
   "metadata": {
    "tags": []
   },
   "outputs": [
    {
     "ename": "ERROR",
     "evalue": "Error in train(Species ~ ., data = dataset, method = \"rpart\", metric = metric, : could not find function \"train\"\n",
     "output_type": "error",
     "traceback": [
      "Error in train(Species ~ ., data = dataset, method = \"rpart\", metric = metric, : could not find function \"train\"\nTraceback:\n"
     ]
    }
   ],
   "source": [
    "set.seed(7)\n",
    "fit.cart <- train(Species~., data=dataset, method=\"rpart\", metric=metric, trControl=control)"
   ]
  },
  {
   "cell_type": "markdown",
   "id": "70fd6e69-f8f7-4dfb-9ab3-dedba41d65f6",
   "metadata": {
    "tags": []
   },
   "source": [
    "# kNN"
   ]
  },
  {
   "cell_type": "code",
   "execution_count": 28,
   "id": "ec297d9d-0330-4ae1-a03f-3b242acbc670",
   "metadata": {
    "tags": []
   },
   "outputs": [
    {
     "ename": "ERROR",
     "evalue": "Error in train(Species ~ ., data = dataset, method = \"knn\", metric = metric, : could not find function \"train\"\n",
     "output_type": "error",
     "traceback": [
      "Error in train(Species ~ ., data = dataset, method = \"knn\", metric = metric, : could not find function \"train\"\nTraceback:\n"
     ]
    }
   ],
   "source": [
    "set.seed(7)\n",
    "fit.knn <- train(Species~., data=dataset, method=\"knn\", metric=metric, trControl=control)"
   ]
  },
  {
   "cell_type": "markdown",
   "id": "be9ce010-8a6d-483e-a597-aba032fc9745",
   "metadata": {
    "tags": []
   },
   "source": [
    "# c) advanced algorithms\n",
    "# SVM"
   ]
  },
  {
   "cell_type": "code",
   "execution_count": 29,
   "id": "da25394d-e0ab-4311-be9b-420b4c793f6b",
   "metadata": {
    "tags": []
   },
   "outputs": [
    {
     "ename": "ERROR",
     "evalue": "Error in train(Species ~ ., data = dataset, method = \"svmRadial\", metric = metric, : could not find function \"train\"\n",
     "output_type": "error",
     "traceback": [
      "Error in train(Species ~ ., data = dataset, method = \"svmRadial\", metric = metric, : could not find function \"train\"\nTraceback:\n"
     ]
    }
   ],
   "source": [
    "set.seed(7)\n",
    "fit.svm <- train(Species~., data=dataset, method=\"svmRadial\", metric=metric, trControl=control)"
   ]
  },
  {
   "cell_type": "markdown",
   "id": "81d06051-0c3b-4a1c-af28-1c7d06b10a02",
   "metadata": {},
   "source": [
    "# Random Forest"
   ]
  },
  {
   "cell_type": "code",
   "execution_count": 30,
   "id": "1773162a-807e-487f-af2a-dd9655f172e8",
   "metadata": {
    "tags": []
   },
   "outputs": [
    {
     "ename": "ERROR",
     "evalue": "Error in train(Species ~ ., data = dataset, method = \"rf\", metric = metric, : could not find function \"train\"\n",
     "output_type": "error",
     "traceback": [
      "Error in train(Species ~ ., data = dataset, method = \"rf\", metric = metric, : could not find function \"train\"\nTraceback:\n"
     ]
    }
   ],
   "source": [
    "set.seed(7)\n",
    "fit.rf <- train(Species~., data=dataset, method=\"rf\", metric=metric, trControl=control)"
   ]
  },
  {
   "cell_type": "markdown",
   "id": "e6dd3d30-b6df-43f7-81ad-35b0dd86d125",
   "metadata": {},
   "source": [
    "# summarize accuracy of models"
   ]
  },
  {
   "cell_type": "code",
   "execution_count": 31,
   "id": "a2fa1619-be2d-487c-b7f8-0b66e3eedbfd",
   "metadata": {
    "tags": []
   },
   "outputs": [
    {
     "ename": "ERROR",
     "evalue": "Error in resamples(list(lda = fit.lda, cart = fit.cart, knn = fit.knn, : could not find function \"resamples\"\n",
     "output_type": "error",
     "traceback": [
      "Error in resamples(list(lda = fit.lda, cart = fit.cart, knn = fit.knn, : could not find function \"resamples\"\nTraceback:\n"
     ]
    }
   ],
   "source": [
    "results <- resamples(list(lda=fit.lda, cart=fit.cart, knn=fit.knn, svm=fit.svm, rf=fit.rf))\n",
    "summary(results)"
   ]
  },
  {
   "cell_type": "markdown",
   "id": "279e1aba-15bb-4f38-9901-b0c4b443b7b0",
   "metadata": {},
   "source": [
    "# compare accuracy of models"
   ]
  },
  {
   "cell_type": "code",
   "execution_count": 32,
   "id": "07ece45e-2ca3-4775-aea3-e47a4991d846",
   "metadata": {
    "tags": []
   },
   "outputs": [
    {
     "ename": "ERROR",
     "evalue": "Error in dotplot(results): could not find function \"dotplot\"\n",
     "output_type": "error",
     "traceback": [
      "Error in dotplot(results): could not find function \"dotplot\"\nTraceback:\n"
     ]
    }
   ],
   "source": [
    "dotplot(results)"
   ]
  },
  {
   "cell_type": "markdown",
   "id": "2a3d94f4-3687-4edb-bf5f-04dde6dd216a",
   "metadata": {},
   "source": [
    "# summarize Best Model"
   ]
  },
  {
   "cell_type": "code",
   "execution_count": 33,
   "id": "25ffbbe8-0c00-4978-aa7a-7dfc1d5f8d86",
   "metadata": {
    "tags": []
   },
   "outputs": [
    {
     "ename": "ERROR",
     "evalue": "Error in print(fit.lda): object 'fit.lda' not found\n",
     "output_type": "error",
     "traceback": [
      "Error in print(fit.lda): object 'fit.lda' not found\nTraceback:\n",
      "1. print(fit.lda)"
     ]
    }
   ],
   "source": [
    "print(fit.lda)"
   ]
  },
  {
   "cell_type": "markdown",
   "id": "137a762f-7e6c-4a5b-86e4-1983ce9e2076",
   "metadata": {},
   "source": [
    "# estimate skill of LDA on the validation dataset"
   ]
  },
  {
   "cell_type": "code",
   "execution_count": 34,
   "id": "ff1090ab-1f3b-4e05-b542-83023092cbc6",
   "metadata": {
    "tags": []
   },
   "outputs": [
    {
     "ename": "ERROR",
     "evalue": "Error in predict(fit.lda, validation): object 'fit.lda' not found\n",
     "output_type": "error",
     "traceback": [
      "Error in predict(fit.lda, validation): object 'fit.lda' not found\nTraceback:\n",
      "1. predict(fit.lda, validation)"
     ]
    }
   ],
   "source": [
    "predictions <- predict(fit.lda, validation)\n",
    "confusionMatrix(predictions, validation$Species)"
   ]
  },
  {
   "cell_type": "code",
   "execution_count": null,
   "id": "fd24193f-7285-423b-a8f9-fa4f9d763d00",
   "metadata": {},
   "outputs": [],
   "source": []
  }
 ],
 "metadata": {
  "kernelspec": {
   "display_name": "R",
   "language": "R",
   "name": "ir"
  },
  "language_info": {
   "codemirror_mode": "r",
   "file_extension": ".r",
   "mimetype": "text/x-r-source",
   "name": "R",
   "pygments_lexer": "r",
   "version": "4.0.5"
  }
 },
 "nbformat": 4,
 "nbformat_minor": 5
}
