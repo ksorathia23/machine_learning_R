{
 "cells": [
  {
   "cell_type": "markdown",
   "id": "2b6a299f-7dcc-432a-bb67-9c635e8227fd",
   "metadata": {},
   "source": [
    "# Machine Learning in R"
   ]
  },
  {
   "cell_type": "code",
   "execution_count": null,
   "id": "46d97aff-6de5-4a6a-bd59-74a1371a6c57",
   "metadata": {
    "tags": []
   },
   "outputs": [],
   "source": [
    "library(caret)"
   ]
  },
  {
   "cell_type": "code",
   "execution_count": null,
   "id": "b49aaba4-c629-4a03-ad9d-0f5454675713",
   "metadata": {
    "tags": []
   },
   "outputs": [],
   "source": [
    "filename <- \"iris.csv\""
   ]
  },
  {
   "cell_type": "markdown",
   "id": "792dce3d-3ac5-4a68-9e06-fcb576299223",
   "metadata": {
    "tags": []
   },
   "source": [
    "# load the CSV file from the local directory"
   ]
  },
  {
   "cell_type": "code",
   "execution_count": null,
   "id": "5a1c5f49-54e9-4717-838b-a5f897ad6ef9",
   "metadata": {
    "tags": []
   },
   "outputs": [],
   "source": [
    "dataset <- read.csv(filename, header=FALSE)"
   ]
  },
  {
   "cell_type": "markdown",
   "id": "af58cb1a-c9e1-406c-a5f1-df9933a8fa7a",
   "metadata": {
    "tags": []
   },
   "source": [
    "# set the column names in the dataset"
   ]
  },
  {
   "cell_type": "code",
   "execution_count": null,
   "id": "8930cca5-2edc-4b98-ae56-41d3213f0118",
   "metadata": {
    "tags": []
   },
   "outputs": [],
   "source": [
    "colnames(dataset) <- c(\"Sepal.Length\",\"Sepal.Width\",\"Petal.Length\",\"Petal.Width\",\"Species\")"
   ]
  },
  {
   "cell_type": "markdown",
   "id": "eee14fea-e792-40c1-8b81-4ac6207c294d",
   "metadata": {
    "tags": []
   },
   "source": [
    "# create a list of 80% of the rows in the original dataset we can use for training"
   ]
  },
  {
   "cell_type": "code",
   "execution_count": null,
   "id": "8c8c99c3-5185-4d3e-b2e0-eceea6592f64",
   "metadata": {
    "tags": []
   },
   "outputs": [],
   "source": [
    "validation_index <- createDataPartition(dataset$Species, p=0.80, list=FALSE)"
   ]
  },
  {
   "cell_type": "markdown",
   "id": "39331a97-b551-4959-8055-4baf36e00d85",
   "metadata": {
    "tags": []
   },
   "source": [
    "# select 20% of the data for validation"
   ]
  },
  {
   "cell_type": "code",
   "execution_count": null,
   "id": "36a90268-9c27-4e19-baf3-c3db5fc49972",
   "metadata": {
    "tags": []
   },
   "outputs": [],
   "source": [
    "validation <- dataset[-validation_index,]"
   ]
  },
  {
   "cell_type": "markdown",
   "id": "b438650d-451a-4d8c-b40f-fdd9d7fb33f4",
   "metadata": {
    "tags": []
   },
   "source": [
    "# use the remaining 80% of data to training and testing the models"
   ]
  },
  {
   "cell_type": "code",
   "execution_count": null,
   "id": "ef21e0cd-ded2-4573-baf0-912bb1a3acc4",
   "metadata": {
    "tags": []
   },
   "outputs": [],
   "source": [
    "dataset <- dataset[validation_index,]"
   ]
  },
  {
   "cell_type": "markdown",
   "id": "fa4c9f0b-e2be-4777-8cec-1b564d54f462",
   "metadata": {},
   "source": [
    "# dimensions of dataset"
   ]
  },
  {
   "cell_type": "code",
   "execution_count": null,
   "id": "48584430-b6d2-4f77-b57a-85eca8b493ab",
   "metadata": {
    "tags": []
   },
   "outputs": [],
   "source": [
    "dim(dataset)"
   ]
  },
  {
   "cell_type": "markdown",
   "id": "572b3070-c842-4740-99c8-8d6290fb8d10",
   "metadata": {},
   "source": [
    "# list types for each attribute"
   ]
  },
  {
   "cell_type": "code",
   "execution_count": null,
   "id": "22736098-e715-450c-9100-b897a53a39a5",
   "metadata": {
    "tags": []
   },
   "outputs": [],
   "source": [
    "sapply(dataset, class)"
   ]
  },
  {
   "cell_type": "markdown",
   "id": "7bfb45e8-66e4-4053-966c-728870545c4e",
   "metadata": {},
   "source": [
    "# take a peek at the first 5 rows of the data"
   ]
  },
  {
   "cell_type": "code",
   "execution_count": null,
   "id": "2f5c6235-c813-42aa-a85f-737d109d7e06",
   "metadata": {
    "tags": []
   },
   "outputs": [],
   "source": [
    "head(dataset)"
   ]
  },
  {
   "cell_type": "markdown",
   "id": "e6e06fb7-fbf2-422e-87d7-5b5499dbeb48",
   "metadata": {},
   "source": [
    "# list the levels for the class"
   ]
  },
  {
   "cell_type": "code",
   "execution_count": null,
   "id": "b1e6ea67-b9f0-4b81-a95c-ac09b72bf248",
   "metadata": {
    "tags": []
   },
   "outputs": [],
   "source": [
    "levels(dataset$Species)"
   ]
  },
  {
   "cell_type": "markdown",
   "id": "320d8432-ddbf-4ea4-b6e8-9433e67bafb6",
   "metadata": {},
   "source": [
    "# summarize the class distribution"
   ]
  },
  {
   "cell_type": "code",
   "execution_count": null,
   "id": "e2568d6d-97a8-4ede-864f-9960c03a558f",
   "metadata": {
    "tags": []
   },
   "outputs": [],
   "source": [
    "percentage <- prop.table(table(dataset$Species)) * 100\n",
    "cbind(freq=table(dataset$Species), percentage=percentage)"
   ]
  },
  {
   "cell_type": "markdown",
   "id": "7fe6509d-1286-4314-8521-47bcdc4ca50e",
   "metadata": {},
   "source": [
    "# summarize attribute distributions"
   ]
  },
  {
   "cell_type": "code",
   "execution_count": null,
   "id": "6c059301-ebc5-4722-a8d3-2c28ec6c1d1d",
   "metadata": {
    "tags": []
   },
   "outputs": [],
   "source": [
    "summary(dataset)"
   ]
  },
  {
   "cell_type": "markdown",
   "id": "efa8d03d-334a-4b05-aa53-9cff1417248e",
   "metadata": {},
   "source": [
    "# split input and output"
   ]
  },
  {
   "cell_type": "code",
   "execution_count": null,
   "id": "385c294d-778b-463a-8991-67ce631fe89d",
   "metadata": {
    "tags": []
   },
   "outputs": [],
   "source": [
    "x <- dataset[,1:4]\n",
    "y <- dataset[,5]"
   ]
  },
  {
   "cell_type": "markdown",
   "id": "da3d9b41-d161-43ab-821f-267d6aa41b07",
   "metadata": {},
   "source": [
    "# boxplot for each attribute on one image"
   ]
  },
  {
   "cell_type": "code",
   "execution_count": null,
   "id": "ea5519ab-7b99-49b9-869e-d840cc857fbf",
   "metadata": {
    "tags": []
   },
   "outputs": [],
   "source": [
    "par(mfrow=c(1,4))\n",
    "  for(i in 1:4) {\n",
    "  boxplot(x[,i], main=names(iris)[i])\n",
    "}"
   ]
  },
  {
   "cell_type": "markdown",
   "id": "98ef519d-7d73-4288-a271-b09d4ea6d752",
   "metadata": {},
   "source": [
    "# barplot for class breakdown"
   ]
  },
  {
   "cell_type": "code",
   "execution_count": null,
   "id": "8afee084-dae4-4e88-aee6-be19be667f8f",
   "metadata": {
    "tags": []
   },
   "outputs": [],
   "source": [
    "plot(y)"
   ]
  },
  {
   "cell_type": "markdown",
   "id": "9e8ed28c-dfd7-45c2-bcd1-adf0d5803e0e",
   "metadata": {},
   "source": [
    "# scatterplot matrix"
   ]
  },
  {
   "cell_type": "code",
   "execution_count": null,
   "id": "f8c13748-dd2d-4eae-935f-689de411e72c",
   "metadata": {
    "tags": []
   },
   "outputs": [],
   "source": [
    "featurePlot(x=x, y=y, plot=\"ellipse\")"
   ]
  },
  {
   "cell_type": "markdown",
   "id": "325108be-1327-4008-8b4b-c0252eabe833",
   "metadata": {},
   "source": [
    "# box and whisker plots for each attribute"
   ]
  },
  {
   "cell_type": "code",
   "execution_count": null,
   "id": "3b198810-5269-44cb-932a-9712e96800ad",
   "metadata": {
    "tags": []
   },
   "outputs": [],
   "source": [
    "featurePlot(x=x, y=y, plot=\"box\")"
   ]
  },
  {
   "cell_type": "markdown",
   "id": "59228bd6-d080-4a00-a80c-31142cfc683a",
   "metadata": {},
   "source": [
    "# density plots for each attribute by class value"
   ]
  },
  {
   "cell_type": "code",
   "execution_count": null,
   "id": "c48c3168-0285-45c9-8402-1d18d157e750",
   "metadata": {
    "tags": []
   },
   "outputs": [],
   "source": [
    "scales <- list(x=list(relation=\"free\"), y=list(relation=\"free\"))\n",
    "featurePlot(x=x, y=y, plot=\"density\", scales=scales)"
   ]
  },
  {
   "cell_type": "markdown",
   "id": "83b7f93e-d450-45de-8c1f-3282aa079aec",
   "metadata": {},
   "source": [
    "# Run algorithms using 10-fold cross validation"
   ]
  },
  {
   "cell_type": "code",
   "execution_count": null,
   "id": "1cad427d-4b43-4766-9fc4-7554ac5440c7",
   "metadata": {
    "tags": []
   },
   "outputs": [],
   "source": [
    "control <- trainControl(method=\"cv\", number=10)\n",
    "metric <- \"Accuracy\""
   ]
  },
  {
   "cell_type": "markdown",
   "id": "6dbf4540-0be2-44eb-a17c-1ebe73d2c68f",
   "metadata": {},
   "source": [
    "# a) linear algorithms"
   ]
  },
  {
   "cell_type": "code",
   "execution_count": null,
   "id": "5be59a06-568b-4fe7-accf-23de4bb00e6b",
   "metadata": {
    "tags": []
   },
   "outputs": [],
   "source": [
    "set.seed(7)\n",
    "fit.lda <- train(Species~., data=dataset, method=\"lda\", metric=metric, trControl=control)"
   ]
  },
  {
   "cell_type": "markdown",
   "id": "362da42c-5e66-4909-b4ae-8e2f4936b372",
   "metadata": {},
   "source": [
    "# b) nonlinear algorithms\n",
    "# CART"
   ]
  },
  {
   "cell_type": "code",
   "execution_count": null,
   "id": "97229712-e0ba-444a-9d50-6765d8232da3",
   "metadata": {
    "tags": []
   },
   "outputs": [],
   "source": [
    "set.seed(7)\n",
    "fit.cart <- train(Species~., data=dataset, method=\"rpart\", metric=metric, trControl=control)"
   ]
  },
  {
   "cell_type": "markdown",
   "id": "70fd6e69-f8f7-4dfb-9ab3-dedba41d65f6",
   "metadata": {
    "tags": []
   },
   "source": [
    "# kNN"
   ]
  },
  {
   "cell_type": "code",
   "execution_count": null,
   "id": "ec297d9d-0330-4ae1-a03f-3b242acbc670",
   "metadata": {
    "tags": []
   },
   "outputs": [],
   "source": [
    "set.seed(7)\n",
    "fit.knn <- train(Species~., data=dataset, method=\"knn\", metric=metric, trControl=control)"
   ]
  },
  {
   "cell_type": "markdown",
   "id": "be9ce010-8a6d-483e-a597-aba032fc9745",
   "metadata": {
    "tags": []
   },
   "source": [
    "# c) advanced algorithms\n",
    "# SVM"
   ]
  },
  {
   "cell_type": "code",
   "execution_count": null,
   "id": "da25394d-e0ab-4311-be9b-420b4c793f6b",
   "metadata": {
    "tags": []
   },
   "outputs": [],
   "source": [
    "set.seed(7)\n",
    "fit.svm <- train(Species~., data=dataset, method=\"svmRadial\", metric=metric, trControl=control)"
   ]
  },
  {
   "cell_type": "markdown",
   "id": "81d06051-0c3b-4a1c-af28-1c7d06b10a02",
   "metadata": {},
   "source": [
    "# Random Forest"
   ]
  },
  {
   "cell_type": "code",
   "execution_count": null,
   "id": "1773162a-807e-487f-af2a-dd9655f172e8",
   "metadata": {
    "tags": []
   },
   "outputs": [],
   "source": [
    "set.seed(7)\n",
    "fit.rf <- train(Species~., data=dataset, method=\"rf\", metric=metric, trControl=control)"
   ]
  },
  {
   "cell_type": "markdown",
   "id": "e6dd3d30-b6df-43f7-81ad-35b0dd86d125",
   "metadata": {},
   "source": [
    "# summarize accuracy of models"
   ]
  },
  {
   "cell_type": "code",
   "execution_count": null,
   "id": "a2fa1619-be2d-487c-b7f8-0b66e3eedbfd",
   "metadata": {
    "tags": []
   },
   "outputs": [],
   "source": [
    "results <- resamples(list(lda=fit.lda, cart=fit.cart, knn=fit.knn, svm=fit.svm, rf=fit.rf))\n",
    "summary(results)"
   ]
  },
  {
   "cell_type": "markdown",
   "id": "279e1aba-15bb-4f38-9901-b0c4b443b7b0",
   "metadata": {},
   "source": [
    "# compare accuracy of models"
   ]
  },
  {
   "cell_type": "code",
   "execution_count": null,
   "id": "07ece45e-2ca3-4775-aea3-e47a4991d846",
   "metadata": {
    "tags": []
   },
   "outputs": [],
   "source": [
    "dotplot(results)"
   ]
  },
  {
   "cell_type": "markdown",
   "id": "2a3d94f4-3687-4edb-bf5f-04dde6dd216a",
   "metadata": {},
   "source": [
    "# summarize Best Model"
   ]
  },
  {
   "cell_type": "code",
   "execution_count": null,
   "id": "25ffbbe8-0c00-4978-aa7a-7dfc1d5f8d86",
   "metadata": {
    "tags": []
   },
   "outputs": [],
   "source": [
    "print(fit.lda)"
   ]
  },
  {
   "cell_type": "markdown",
   "id": "137a762f-7e6c-4a5b-86e4-1983ce9e2076",
   "metadata": {},
   "source": [
    "# estimate skill of LDA on the validation dataset"
   ]
  },
  {
   "cell_type": "code",
   "execution_count": null,
   "id": "ff1090ab-1f3b-4e05-b542-83023092cbc6",
   "metadata": {
    "tags": []
   },
   "outputs": [],
   "source": [
    "predictions <- predict(fit.lda, validation)\n",
    "confusionMatrix(predictions, validation$Species)"
   ]
  }
 ],
 "metadata": {
  "kernelspec": {
   "display_name": "R",
   "language": "R",
   "name": "ir"
  },
  "language_info": {
   "codemirror_mode": "r",
   "file_extension": ".r",
   "mimetype": "text/x-r-source",
   "name": "R",
   "pygments_lexer": "r",
   "version": "4.3.1"
  }
 },
 "nbformat": 4,
 "nbformat_minor": 5
}
